{
 "cells": [
  {
   "cell_type": "code",
   "execution_count": 2,
   "metadata": {},
   "outputs": [],
   "source": [
    "import astropy\n",
    "import matplotlib.pyplot as plt\n",
    "import numpy as np\n",
    "import scipy\n",
    "from astropy.io import fits\n",
    "import glob\n",
    "import re"
   ]
  },
  {
   "cell_type": "code",
   "execution_count": 2,
   "metadata": {},
   "outputs": [
    {
     "name": "stdout",
     "output_type": "stream",
     "text": [
      "(1336, 2004)\n",
      "[[644.5 640.5 634.5 ... 572.  569.5 562.5]\n",
      " [640.  639.  641.  ... 571.5 567.5 569.5]\n",
      " [644.  643.  641.  ... 567.5 564.  566. ]\n",
      " ...\n",
      " [712.  714.  715.5 ... 647.  639.5 642. ]\n",
      " [713.5 704.  714.  ... 637.5 643.5 637. ]\n",
      " [717.5 710.  715.5 ... 643.  640.5 632. ]]\n"
     ]
    }
   ],
   "source": [
    "# prepare dark currents\n",
    "n = '.005'\n",
    "\n",
    "result = []\n",
    "for fname in np.sort(glob.glob('./raw_dark/{}/*.fit'.format(n))):\n",
    "    data = fits.open(fname)[0].data \n",
    "    header = fits.open(fname)[0].header\n",
    "    result.append(data)\n",
    "mean_data = np.median(result, axis=0) # mean or median\n",
    "print(mean_data.shape)\n",
    "\n",
    "file_name = './dark/0{}.fit'.format(n)\n",
    "fits.writeto(filename=file_name, data=mean_data, header=header, overwrite=True)\n",
    "f = fits.open(file_name)\n",
    "print(f[0].data)\n",
    "f.close()"
   ]
  },
  {
   "cell_type": "code",
   "execution_count": 3,
   "metadata": {},
   "outputs": [
    {
     "name": "stdout",
     "output_type": "stream",
     "text": [
      "(1336, 2004)\n",
      "[[7572.5 7649.  7634.5 ... 7595.  7632.5 7527. ]\n",
      " [7528.  7659.5 7673.  ... 7563.5 7599.5 7669. ]\n",
      " [7542.5 7675.5 7546.  ... 7653.5 7692.  7671. ]\n",
      " ...\n",
      " [8210.5 8314.5 8327.5 ... 8419.5 8416.5 8297. ]\n",
      " [8283.5 8241.5 8371.5 ... 8280.5 8275.  8400. ]\n",
      " [8302.5 8300.  8361.5 ... 8418.5 8399.  8271. ]]\n"
     ]
    }
   ],
   "source": [
    "# master flat\n",
    "\n",
    "result = []\n",
    "for fname in np.sort(glob.glob('./Vflats-F2022/*.fts')):\n",
    "    data = fits.open(fname)[0].data \n",
    "    header = fits.open(fname)[0].header\n",
    "    result.append(data)\n",
    "mean_data = np.median(result, axis=0) # mean or median\n",
    "print(mean_data.shape)\n",
    "\n",
    "file_name = './flat/master.fit'\n",
    "fits.writeto(filename=file_name, data=mean_data, header=header, overwrite=True)\n",
    "f = fits.open(file_name)\n",
    "print(f[0].data)\n",
    "f.close()"
   ]
  },
  {
   "cell_type": "code",
   "execution_count": null,
   "metadata": {},
   "outputs": [],
   "source": [
    "def fname_to_img(fname):\n",
    "    '''\n",
    "    must be valid fname\n",
    "    '''\n",
    "    return fits.open(fname)[0].data"
   ]
  },
  {
   "cell_type": "code",
   "execution_count": null,
   "metadata": {},
   "outputs": [],
   "source": [
    "def reduction(img, texp=1):\n",
    "    '''\n",
    "    applies dark current and flat field corrections\n",
    "    img = 2D pixel array\n",
    "    texp = exposure time in seconds, valid options: [0.005,0.01,0.05,0.1,1,5]\n",
    "    '''\n",
    "    master_flat_field = fits.open('./flat/master.fit')[0].data\n",
    "    dark_current = fits.open('./dark/{}.fit'.format(str(texp)))[0].data\n",
    "    return (img - dark_current)/((master_flat_field-dark_current)/np.median(master_flat_field))"
   ]
  },
  {
   "cell_type": "code",
   "execution_count": null,
   "metadata": {},
   "outputs": [],
   "source": [
    "#jupiter 1\n",
    "\n",
    "day = 1\n",
    "texp = 1\n",
    "colors = ['green']\n",
    "# colors = ['green', 'red', 'blue']\n",
    "\n",
    "\n",
    "result = []\n",
    "for c in colors:\n",
    "    files = np.sort(glob.glob('./jupiter/1s/{}/*.fit'.format(c)))\n",
    "    header = fits.open(files[0])[0].header\n",
    "    mean_data = np.mean(np.array([reduction(fname_to_img(f), texp=texp) for f in files[:]]), axis=0)\n",
    "    \n",
    "    file_name = './data/{}_{}_{}.fit'.format(str(day),str(texp),c)\n",
    "    fits.writeto(filename=file_name, data=mean_data, header=header, overwrite=True)\n",
    "    f = fits.open(file_name)\n",
    "    print(f[0].data)\n",
    "    f.close()\n",
    "result = np.array(result)"
   ]
  },
  {
   "cell_type": "code",
   "execution_count": null,
   "metadata": {},
   "outputs": [],
   "source": [
    "# jupiter2\n",
    "\n",
    "day = 2\n",
    "texp = .005\n",
    "colors = ['green', 'red', 'blue']\n",
    "\n",
    "\n",
    "result = []\n",
    "for c in colors:\n",
    "    files = np.sort(glob.glob('./jupiter2/' + str(c[0]) + '_005/*.fit'))\n",
    "    header = fits.open(files[0])[0].header\n",
    "    mean_data = np.mean(np.array([reduction(fname_to_img(f), texp=texp) for f in files[:]]), axis=0)\n",
    "    \n",
    "    file_name = './data/{}_{}_{}.fit'.format(str(day),str(texp),c)\n",
    "    fits.writeto(filename=file_name, data=mean_data, header=header, overwrite=True)\n",
    "    f = fits.open(file_name)\n",
    "    print(f[0].data)\n",
    "    f.close()\n",
    "result = np.array(result)"
   ]
  },
  {
   "cell_type": "code",
   "execution_count": 16,
   "metadata": {},
   "outputs": [],
   "source": [
    "result = []\n",
    "data_files = np.sort(glob.glob('./data/*.fit'))\n",
    "for file in data_files:\n",
    "    f = fits.open(file)\n",
    "    data = f[0].data\n",
    "    header = f[0].header\n",
    "\n",
    "    adj_data = data.copy()\n",
    "    adj_data[data < 0] = 0\n",
    "    \n",
    "    fits.writeto(filename=file, data=adj_data, header=header, overwrite=True)"
   ]
  }
 ],
 "metadata": {
  "kernelspec": {
   "display_name": "venv",
   "language": "python",
   "name": "python3"
  },
  "language_info": {
   "codemirror_mode": {
    "name": "ipython",
    "version": 3
   },
   "file_extension": ".py",
   "mimetype": "text/x-python",
   "name": "python",
   "nbconvert_exporter": "python",
   "pygments_lexer": "ipython3",
   "version": "3.8.10"
  }
 },
 "nbformat": 4,
 "nbformat_minor": 2
}
